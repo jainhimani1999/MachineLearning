{
  "nbformat": 4,
  "nbformat_minor": 0,
  "metadata": {
    "colab": {
      "name": "DV-4(final)",
      "version": "0.3.2",
      "provenance": [],
      "collapsed_sections": [],
      "include_colab_link": true
    },
    "kernelspec": {
      "name": "python2",
      "display_name": "Python 2"
    }
  },
  "cells": [
    {
      "cell_type": "markdown",
      "metadata": {
        "id": "view-in-github",
        "colab_type": "text"
      },
      "source": [
        "<a href=\"https://colab.research.google.com/github/jainhimani1999/MachineLearning/blob/master/DV_4(final).ipynb\" target=\"_parent\"><img src=\"https://colab.research.google.com/assets/colab-badge.svg\" alt=\"Open In Colab\"/></a>"
      ]
    },
    {
      "cell_type": "code",
      "metadata": {
        "id": "S0MwrTeK2FKh",
        "colab_type": "code",
        "colab": {}
      },
      "source": [
        "import bs4\n",
        "import requests\n",
        "res=requests.get(' https://en.wikipedia.org/wiki/Machine_learning')\n",
        "import matplotlib.pyplot as plt"
      ],
      "execution_count": 0,
      "outputs": []
    },
    {
      "cell_type": "code",
      "metadata": {
        "id": "wFWNIQYM2QKV",
        "colab_type": "code",
        "colab": {}
      },
      "source": [
        "soup=bs4.BeautifulSoup(res.text,features='lxml')"
      ],
      "execution_count": 0,
      "outputs": []
    },
    {
      "cell_type": "code",
      "metadata": {
        "id": "aFjN4omL2Yfn",
        "colab_type": "code",
        "colab": {}
      },
      "source": [
        "link_list=[]\n",
        "for link in soup.find_all('a',href=True):\n",
        "  link_list.append(link['href'])"
      ],
      "execution_count": 0,
      "outputs": []
    },
    {
      "cell_type": "code",
      "metadata": {
        "id": "W7pwdC8M2xn8",
        "colab_type": "code",
        "colab": {}
      },
      "source": [
        "words=[]\n",
        "for each_text in soup.find_all('p'):\n",
        "  content=each_text.text\n",
        "  words=words+content.split()\n",
        "  words=list(words)"
      ],
      "execution_count": 0,
      "outputs": []
    },
    {
      "cell_type": "code",
      "metadata": {
        "id": "NFPnDm3u-tiT",
        "colab_type": "code",
        "outputId": "df16cf1c-c75c-4878-b9b4-1d1c0e037d32",
        "colab": {
          "base_uri": "https://localhost:8080/",
          "height": 36
        }
      },
      "source": [
        "decoded=[]\n",
        "for word in words:\n",
        "  decoded.append(word.encode('ascii','replace'))\n",
        "\n",
        "print(type(decoded[0]))\n",
        "\n"
      ],
      "execution_count": 0,
      "outputs": [
        {
          "output_type": "stream",
          "text": [
            "<type 'str'>\n"
          ],
          "name": "stdout"
        }
      ]
    },
    {
      "cell_type": "code",
      "metadata": {
        "id": "3682eVoG-rml",
        "colab_type": "code",
        "colab": {}
      },
      "source": [
        "word_count={}\n",
        "for word in decoded:\n",
        "  if word in word_count:\n",
        "    word_count[word] += 1\n",
        "  else:\n",
        "    word_count[word] = 1"
      ],
      "execution_count": 0,
      "outputs": []
    },
    {
      "cell_type": "code",
      "metadata": {
        "id": "SlRAAayj77Mn",
        "colab_type": "code",
        "colab": {}
      },
      "source": [
        "sorting=[]\n",
        "for key,value in word_count.items():\n",
        "  sorting.append((value,key))\n",
        "sorting.sort()\n",
        "sorting.reverse()\n",
        "\n",
        "  "
      ],
      "execution_count": 0,
      "outputs": []
    },
    {
      "cell_type": "code",
      "metadata": {
        "id": "w8I0d00o-vdo",
        "colab_type": "code",
        "colab": {}
      },
      "source": [
        "import pandas as pd\n",
        "df=pd.DataFrame(sorting)\n",
        "x=df.iloc[:20,0]\n",
        "y=df.iloc[:20,1]"
      ],
      "execution_count": 0,
      "outputs": []
    },
    {
      "cell_type": "code",
      "metadata": {
        "id": "yhP0tlwz8kTN",
        "colab_type": "code",
        "outputId": "182105de-0c5a-4de8-d973-1c93c1cbcead",
        "colab": {
          "base_uri": "https://localhost:8080/",
          "height": 999
        }
      },
      "source": [
        "plt.pie(x,labels=y)"
      ],
      "execution_count": 0,
      "outputs": [
        {
          "output_type": "execute_result",
          "data": {
            "text/plain": [
              "([<matplotlib.patches.Wedge at 0x7f32c40833d0>,\n",
              "  <matplotlib.patches.Wedge at 0x7f32c4083950>,\n",
              "  <matplotlib.patches.Wedge at 0x7f32c4083ed0>,\n",
              "  <matplotlib.patches.Wedge at 0x7f32c1f2e490>,\n",
              "  <matplotlib.patches.Wedge at 0x7f32c1f2ea10>,\n",
              "  <matplotlib.patches.Wedge at 0x7f32c1f2ef90>,\n",
              "  <matplotlib.patches.Wedge at 0x7f32c1f3c550>,\n",
              "  <matplotlib.patches.Wedge at 0x7f32c1f3cad0>,\n",
              "  <matplotlib.patches.Wedge at 0x7f32c1f33090>,\n",
              "  <matplotlib.patches.Wedge at 0x7f32c1f33610>,\n",
              "  <matplotlib.patches.Wedge at 0x7f32c1f33b90>,\n",
              "  <matplotlib.patches.Wedge at 0x7f32c1f29150>,\n",
              "  <matplotlib.patches.Wedge at 0x7f32c1f296d0>,\n",
              "  <matplotlib.patches.Wedge at 0x7f32c1f29c50>,\n",
              "  <matplotlib.patches.Wedge at 0x7f32bf5bc210>,\n",
              "  <matplotlib.patches.Wedge at 0x7f32bf5bc790>,\n",
              "  <matplotlib.patches.Wedge at 0x7f32bf5bcd10>,\n",
              "  <matplotlib.patches.Wedge at 0x7f32bf5a72d0>,\n",
              "  <matplotlib.patches.Wedge at 0x7f32bf5a7850>,\n",
              "  <matplotlib.patches.Wedge at 0x7f32bf5a7dd0>],\n",
              " [Text(0.983284,0.493104,'the'),\n",
              "  Text(0.349813,1.0429,'of'),\n",
              "  Text(-0.331466,1.04887,'a'),\n",
              "  Text(-0.854921,0.692177,'to'),\n",
              "  Text(-1.08722,0.167217,'and'),\n",
              "  Text(-1.05089,-0.325021,'learning'),\n",
              "  Text(-0.848818,-0.699649,'in'),\n",
              "  Text(-0.568278,-0.941839,'is'),\n",
              "  Text(-0.292614,-1.06037,'that'),\n",
              "  Text(-0.0356897,-1.09942,'machine'),\n",
              "  Text(0.194812,-1.08261,'are'),\n",
              "  Text(0.393394,-1.02725,'as'),\n",
              "  Text(0.561655,-0.945803,'data'),\n",
              "  Text(0.703364,-0.845741,'training'),\n",
              "  Text(0.819908,-0.733315,'algorithms'),\n",
              "  Text(0.91762,-0.606608,'from'),\n",
              "  Text(0.994272,-0.470556,'or'),\n",
              "  Text(1.048,-0.334225,'for'),\n",
              "  Text(1.08175,-0.199558,'be'),\n",
              "  Text(1.09804,-0.0655645,'on')])"
            ]
          },
          "metadata": {
            "tags": []
          },
          "execution_count": 82
        },
        {
          "output_type": "display_data",
          "data": {
            "image/png": "[encoded data removed]",
            "text/plain": [
              "<Figure size 432x288 with 1 Axes>"
            ]
          },
          "metadata": {
            "tags": []
          }
        }
      ]
    },
    {
      "cell_type": "code",
      "metadata": {
        "id": "NIZxtjvqDujm",
        "colab_type": "code",
        "outputId": "c8eebbd1-764a-44ac-a1c8-11af3e4213ed",
        "colab": {
          "base_uri": "https://localhost:8080/",
          "height": 288
        }
      },
      "source": [
        "plt.bar(x,y)"
      ],
      "execution_count": 0,
      "outputs": [
        {
          "output_type": "execute_result",
          "data": {
            "text/plain": [
              "<BarContainer object of 20 artists>"
            ]
          },
          "metadata": {
            "tags": []
          },
          "execution_count": 84
        },
        {
          "output_type": "display_data",
          "data": {
            "image/png": "[encoded data removed]",
            "text/plain": [
              "<Figure size 432x288 with 1 Axes>"
            ]
          },
          "metadata": {
            "tags": []
          }
        }
      ]
    },
    {
      "cell_type": "code",
      "metadata": {
        "id": "yWaRwlQxECkx",
        "colab_type": "code",
        "colab": {}
      },
      "source": [
        ""
      ],
      "execution_count": 0,
      "outputs": []
    }
  ]
}